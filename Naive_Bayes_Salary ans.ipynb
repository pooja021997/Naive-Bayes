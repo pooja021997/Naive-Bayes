{
 "cells": [
  {
   "cell_type": "code",
   "execution_count": 35,
   "id": "10d7dfbf",
   "metadata": {},
   "outputs": [],
   "source": [
    "import pandas as pd\n",
    "import numpy as np\n",
    "import matplotlib.pyplot as plt"
   ]
  },
  {
   "cell_type": "code",
   "execution_count": 36,
   "id": "db639b5c",
   "metadata": {},
   "outputs": [],
   "source": [
    "salary_train=pd.read_csv(r'C:\\Users\\user\\Downloads\\SalaryData_Train.csv')\n",
    "salary_test=pd.read_csv(r'C:\\Users\\user\\Downloads\\SalaryData_Test.csv')"
   ]
  },
  {
   "cell_type": "code",
   "execution_count": 37,
   "id": "1eae9887",
   "metadata": {},
   "outputs": [
    {
     "data": {
      "text/plain": [
       "Index(['age', 'workclass', 'education', 'educationno', 'maritalstatus',\n",
       "       'occupation', 'relationship', 'race', 'sex', 'capitalgain',\n",
       "       'capitalloss', 'hoursperweek', 'native', 'Salary'],\n",
       "      dtype='object')"
      ]
     },
     "execution_count": 37,
     "metadata": {},
     "output_type": "execute_result"
    }
   ],
   "source": [
    "salary_train.columns\n",
    "salary_test.columns"
   ]
  },
  {
   "cell_type": "code",
   "execution_count": 38,
   "id": "ebe93072",
   "metadata": {},
   "outputs": [],
   "source": [
    "string_columns=['workclass','education','maritalstatus','occupation','relationship','race','sex','native']"
   ]
  },
  {
   "cell_type": "code",
   "execution_count": 39,
   "id": "b0f5b89c",
   "metadata": {},
   "outputs": [],
   "source": [
    "from sklearn import preprocessing\n",
    "label_encoder=preprocessing.LabelEncoder()"
   ]
  },
  {
   "cell_type": "code",
   "execution_count": 40,
   "id": "085ba6a6",
   "metadata": {},
   "outputs": [],
   "source": [
    "for i in string_columns:\n",
    "    salary_train[i]=label_encoder.fit_transform(salary_train[i])\n",
    "    salary_test[i]=label_encoder.fit_transform(salary_test[i])"
   ]
  },
  {
   "cell_type": "code",
   "execution_count": 41,
   "id": "7d132284",
   "metadata": {},
   "outputs": [],
   "source": [
    "col_names=list(salary_train.columns)"
   ]
  },
  {
   "cell_type": "code",
   "execution_count": 42,
   "id": "db07f3eb",
   "metadata": {},
   "outputs": [],
   "source": [
    "train_X=salary_train[col_names[0:13]]\n",
    "train_Y=salary_train[col_names[13]]"
   ]
  },
  {
   "cell_type": "code",
   "execution_count": 43,
   "id": "a1551c8f",
   "metadata": {},
   "outputs": [],
   "source": [
    "test_x=salary_test[col_names[0:13]]\n",
    "test_y=salary_test[col_names[13]]"
   ]
  },
  {
   "cell_type": "code",
   "execution_count": 44,
   "id": "a3865c07",
   "metadata": {},
   "outputs": [],
   "source": [
    "#Gaussian Naive Bayes\n",
    "from sklearn.naive_bayes import GaussianNB\n",
    "Gmodel=GaussianNB()\n",
    "train_pred_gau=Gmodel.fit(train_X,train_Y).predict(train_X)\n",
    "test_pred_gau=Gmodel.fit(train_X,train_Y).predict(test_x)"
   ]
  },
  {
   "cell_type": "code",
   "execution_count": 45,
   "id": "1d2afb66",
   "metadata": {},
   "outputs": [],
   "source": [
    "train_acc_gau=np.mean(train_pred_gau==train_Y)\n",
    "test_acc_gau=np.mean(test_pred_gau==test_y)"
   ]
  },
  {
   "cell_type": "code",
   "execution_count": 46,
   "id": "c03a227e",
   "metadata": {},
   "outputs": [
    {
     "data": {
      "text/plain": [
       "0.7946879150066402"
      ]
     },
     "execution_count": 46,
     "metadata": {},
     "output_type": "execute_result"
    }
   ],
   "source": [
    "train_acc_gau #0.795\n",
    "test_acc_gau  #0.794"
   ]
  },
  {
   "cell_type": "code",
   "execution_count": 48,
   "id": "2bd5a529",
   "metadata": {},
   "outputs": [],
   "source": [
    "#multinomial Naive Bayes\n",
    "from sklearn.naive_bayes import MultinomialNB\n",
    "Mmodel=MultinomialNB()\n",
    "train_pred_multi=Mmodel.fit(train_X,train_Y).predict(train_X)\n",
    "test_pred_multi=Mmodel.fit(train_X,train_Y).predict(test_x)\n"
   ]
  },
  {
   "cell_type": "code",
   "execution_count": 49,
   "id": "629c6c9d",
   "metadata": {},
   "outputs": [],
   "source": [
    "train_acc_multi=np.mean(train_pred_multi==train_Y)\n",
    "test_acc_multi=np.mean(test_pred_multi==test_y)"
   ]
  },
  {
   "cell_type": "code",
   "execution_count": 50,
   "id": "c4c41f1c",
   "metadata": {},
   "outputs": [
    {
     "data": {
      "text/plain": [
       "0.7749667994687915"
      ]
     },
     "execution_count": 50,
     "metadata": {},
     "output_type": "execute_result"
    }
   ],
   "source": [
    "train_acc_multi #0.772\n",
    "test_acc_multi #0.77"
   ]
  },
  {
   "cell_type": "code",
   "execution_count": null,
   "id": "b8fc0500",
   "metadata": {},
   "outputs": [],
   "source": []
  }
 ],
 "metadata": {
  "kernelspec": {
   "display_name": "Python 3 (ipykernel)",
   "language": "python",
   "name": "python3"
  },
  "language_info": {
   "codemirror_mode": {
    "name": "ipython",
    "version": 3
   },
   "file_extension": ".py",
   "mimetype": "text/x-python",
   "name": "python",
   "nbconvert_exporter": "python",
   "pygments_lexer": "ipython3",
   "version": "3.9.7"
  }
 },
 "nbformat": 4,
 "nbformat_minor": 5
}
